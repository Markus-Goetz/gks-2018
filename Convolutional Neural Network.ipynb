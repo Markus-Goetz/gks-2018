{
 "cells": [
  {
   "cell_type": "code",
   "execution_count": 6,
   "metadata": {},
   "outputs": [],
   "source": [
    "import h5py\n",
    "import numpy as np\n",
    "import scipy.signal as scis\n",
    "import matplotlib.pyplot as plt\n",
    "plt.style.use('seaborn')"
   ]
  },
  {
   "cell_type": "code",
   "execution_count": 3,
   "metadata": {},
   "outputs": [],
   "source": [
    "def load_data(path='mnist.h5'):\n",
    "    with h5py.File(path, 'r') as handle:\n",
    "        return np.array(handle['data']), np.array(handle['labels'])\n",
    "    \n",
    "data, labels = load_data()"
   ]
  },
  {
   "cell_type": "code",
   "execution_count": 59,
   "metadata": {},
   "outputs": [],
   "source": [
    "gauss_filter = scis.convolve2d(data[0], np.array([\n",
    "    [1, 2, 1],\n",
    "    [2, 4, 2],\n",
    "    [1, 2, 1]\n",
    "]), mode='same')\n",
    "\n",
    "laplacian_filter = scis.convolve2d(data[0], np.array([\n",
    "    [0,  1, 0],\n",
    "    [1, -4, 1],\n",
    "    [0,  1, 0]\n",
    "]), mode='same')\n",
    "\n",
    "high_pass_filter = scis.convolve2d(data[0], np.array([\n",
    "    [-1, -1, -1],\n",
    "    [-1,  9, -1],\n",
    "    [-1, -1, -1]\n",
    "]), mode='same')\n",
    "\n",
    "sharpen = scis.convolve2d(data[0], np.array([\n",
    "    [-0.5, -0.5, -0.5],\n",
    "    [-0.5,  8.5, -0.5],\n",
    "    [-0.5, -0.5, -0.5]\n",
    "]), mode='same')\n",
    "\n",
    "sobel_x = scis.convolve2d(data[0], np.array([\n",
    "    [1, 0, -1],\n",
    "    [2, 0, -2],\n",
    "    [1, 0, -1]\n",
    "]), mode='same')\n",
    "\n",
    "sobel_y = scis.convolve2d(data[0], np.array([\n",
    "    [ 1,  2,  1],\n",
    "    [ 0,  0,  0],\n",
    "    [-1, -2, -1,]\n",
    "]), mode='same')\n",
    "\n",
    "sobel = np.sqrt(sobel_x ** 2 + sobel_y ** 2)\n",
    "\n",
    "emboss_filter = scis.convolve2d(data[0], np.array([\n",
    "    [-2, -1,  0],\n",
    "    [-1,  0,  1],\n",
    "    [ 0,  1,  2,]\n",
    "]), mode='same')"
   ]
  },
  {
   "cell_type": "code",
   "execution_count": 62,
   "metadata": {},
   "outputs": [],
   "source": [
    "gauss_filter_5x5 = scis.convolve2d(data[0], np.array([\n",
    "    [1,  4,  7,  2,  1],\n",
    "    [4, 16, 26, 16,  4],\n",
    "    [7, 26, 41, 26,  7],\n",
    "    [4, 16, 26, 16,  4],\n",
    "    [1,  4,  7,  4,  1],\n",
    "]), mode='same')\n",
    "\n",
    "laplacian_filter_5x5 = scis.convolve2d(data[0], np.array([\n",
    "    [0, 0,   1, 0, 0],\n",
    "    [0, 1,   2, 1, 0],\n",
    "    [1, 2, -16, 2, 1],\n",
    "    [0, 1,   2, 1, 0],\n",
    "    [0, 0,   1, 0, 0]\n",
    "]), mode='same')\n",
    "\n",
    "high_pass_filter_5x5 = scis.convolve2d(data[0], np.array([\n",
    "    [ 0, -1, -1, -1,  0],\n",
    "    [-1,  2, -4,  2, -1],\n",
    "    [-1, -4, 13, -4, -1],\n",
    "    [-1,  2, -4,  2, -1],\n",
    "    [ 0, -1, -1, -1,  0]\n",
    "]), mode='same')\n",
    "\n",
    "sharpen_5x5 = scis.convolve2d(data[0], np.array([\n",
    "    [-0.5, -0.5,  -0.5, -0.5, -0.5],\n",
    "    [-0.5, -0.5,  -0.5, -0.5, -0.5],\n",
    "    [-0.5, -0.5,  24.5, -0.5, -0.5],\n",
    "    [-0.5, -0.5,  -0.5, -0.5, -0.5],\n",
    "    [-0.5, -0.5,  -0.5, -0.5, -0.5],\n",
    "]), mode='same')\n",
    "\n",
    "sobel_x_5x5 = scis.convolve2d(data[0], np.array([\n",
    "    [2, 1, 0, -1, -2],\n",
    "    [2, 1, 0, -1, -2],\n",
    "    [4, 2, 0, -2, -4],\n",
    "    [2, 1, 0, -1, -2],\n",
    "    [2, 1, 0, -1, -2]\n",
    "]), mode='same')\n",
    "\n",
    "sobel_y_5x5 = scis.convolve2d(data[0], np.array([\n",
    "    [ 1,  1,  4,  1,  1],\n",
    "    [ 1,  1,  2,  1,  1],\n",
    "    [ 0,  0,  0,  0,  0],\n",
    "    [-1, -1, -2, -1, -1],\n",
    "    [-1, -1, -4, -1, -1],\n",
    "]), mode='same')\n",
    "\n",
    "sobel_5x5 = np.sqrt(sobel_x_5x5 ** 2 + sobel_y_5x5 ** 2)\n",
    "\n",
    "emboss_filter_5x5 = scis.convolve2d(data[0], np.array([\n",
    "    [-4, -3, -2, -1, 0],\n",
    "    [-3, -2, -1,  0, 1],\n",
    "    [-2, -1,  0,  1, 2],\n",
    "    [-1,  0,  1,  2, 3],\n",
    "    [ 0,  1,  2,  3, 4],\n",
    "]), mode='same')"
   ]
  },
  {
   "cell_type": "code",
   "execution_count": 65,
   "metadata": {},
   "outputs": [
    {
     "data": {
      "image/png": "[encoded data removed]",
      "text/plain": [
       "<Figure size 1152x288 with 14 Axes>"
      ]
     },
     "metadata": {},
     "output_type": "display_data"
    }
   ],
   "source": [
    "def show_examples(data):\n",
    "    index = 0\n",
    "    height = 2\n",
    "    width = data.shape[0] // height\n",
    "    figure, axes = plt.subplots(height, width, figsize=(16, 4), sharex=True, sharey=True)\n",
    "    \n",
    "    for h in range(height):\n",
    "        for w in range(width):\n",
    "            axis = axes[h][w]\n",
    "            axis.grid(False)\n",
    "            axis.imshow(data[index], cmap='gist_gray')\n",
    "            index += 1\n",
    "    plt.show()\n",
    "\n",
    "show_examples(np.stack([\n",
    "    data[0], gauss_filter,     laplacian_filter,     high_pass_filter,     sharpen,     sobel,     emboss_filter,\n",
    "    data[0], gauss_filter_5x5, laplacian_filter_5x5, high_pass_filter_5x5, sharpen_5x5, sobel_5x5, emboss_filter_5x5,\n",
    "]))"
   ]
  },
  {
   "cell_type": "code",
   "execution_count": null,
   "metadata": {},
   "outputs": [],
   "source": []
  }
 ],
 "metadata": {
  "kernelspec": {
   "display_name": "heat_kernel",
   "language": "python",
   "name": "heat_kernel"
  },
  "language_info": {
   "codemirror_mode": {
    "name": "ipython",
    "version": 3
   },
   "file_extension": ".py",
   "mimetype": "text/x-python",
   "name": "python",
   "nbconvert_exporter": "python",
   "pygments_lexer": "ipython3",
   "version": "3.6.6"
  }
 },
 "nbformat": 4,
 "nbformat_minor": 2
}
