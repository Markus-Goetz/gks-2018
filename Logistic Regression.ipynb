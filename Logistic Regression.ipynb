{
 "cells": [
  {
   "cell_type": "code",
   "execution_count": 1,
   "metadata": {},
   "outputs": [
    {
     "name": "stderr",
     "output_type": "stream",
     "text": [
      "Using TensorFlow backend.\n"
     ]
    }
   ],
   "source": [
    "import numpy as np\n",
    "from keras.layers import Dense\n",
    "from keras.models import Sequential\n",
    "import matplotlib.pyplot as plt"
   ]
  },
  {
   "cell_type": "code",
   "execution_count": 2,
   "metadata": {},
   "outputs": [],
   "source": [
    "np.random.seed(842424)"
   ]
  },
  {
   "cell_type": "code",
   "execution_count": 3,
   "metadata": {},
   "outputs": [],
   "source": [
    "nSamples = 1000\n",
    "inputDim = 2\n",
    "outputDim = 1\n",
    "batchSize = 50\n",
    "nEpochs = 5"
   ]
  },
  {
   "cell_type": "code",
   "execution_count": 4,
   "metadata": {},
   "outputs": [],
   "source": [
    "x1 = np.random.normal(1., 0.25, (nSamples//2, inputDim))\n",
    "x2 = np.random.normal(2., 0.30, (nSamples//2, inputDim))\n",
    "y1 = np.zeros(nSamples//2)\n",
    "y2 = np.ones(nSamples//2)\n",
    "x = np.concatenate((x1, x2))\n",
    "y = np.concatenate((y1, y2))"
   ]
  },
  {
   "cell_type": "code",
   "execution_count": 5,
   "metadata": {},
   "outputs": [
    {
     "data": {
      "text/plain": [
       "<matplotlib.collections.PathCollection at 0x7fe5fc476ba8>"
      ]
     },
     "execution_count": 5,
     "metadata": {},
     "output_type": "execute_result"
    },
    {
     "data": {
      "image/png": "[encoded data removed]",
      "text/plain": [
       "<Figure size 432x288 with 1 Axes>"
      ]
     },
     "metadata": {},
     "output_type": "display_data"
    }
   ],
   "source": [
    "plt.scatter(*zip(*x1))\n",
    "plt.scatter(*zip(*x2))"
   ]
  },
  {
   "cell_type": "code",
   "execution_count": 9,
   "metadata": {},
   "outputs": [
    {
     "data": {
      "text/plain": [
       "(1000,)"
      ]
     },
     "execution_count": 9,
     "metadata": {},
     "output_type": "execute_result"
    }
   ],
   "source": [
    "shuffled = np.arange(nSamples)\n",
    "np.random.shuffle(shuffled)\n",
    "xs = x[shuffled]\n",
    "ys = y[shuffled]"
   ]
  },
  {
   "cell_type": "code",
   "execution_count": 7,
   "metadata": {},
   "outputs": [],
   "source": [
    "model = Sequential()\n",
    "model.add(Dense(outputDim, input_dim=inputDim, activation='sigmoid'))"
   ]
  },
  {
   "cell_type": "code",
   "execution_count": 10,
   "metadata": {},
   "outputs": [],
   "source": [
    "model.compile(optimizer='sgd', loss='mse', metrics=['accuracy'])"
   ]
  },
  {
   "cell_type": "code",
   "execution_count": 11,
   "metadata": {},
   "outputs": [
    {
     "name": "stdout",
     "output_type": "stream",
     "text": [
      "Epoch 1/5\n",
      "1000/1000 [==============================] - 0s 129us/step - loss: 0.2545 - acc: 0.5010\n",
      "Epoch 2/5\n",
      "1000/1000 [==============================] - 0s 15us/step - loss: 0.2478 - acc: 0.5040\n",
      "Epoch 3/5\n",
      "1000/1000 [==============================] - 0s 18us/step - loss: 0.2418 - acc: 0.5070\n",
      "Epoch 4/5\n",
      "1000/1000 [==============================] - 0s 21us/step - loss: 0.2364 - acc: 0.5110\n",
      "Epoch 5/5\n",
      "1000/1000 [==============================] - 0s 15us/step - loss: 0.2317 - acc: 0.5150\n"
     ]
    }
   ],
   "source": [
    "fit = model.fit(xs, ys, batch_size=batchSize, epochs=nEpochs)"
   ]
  },
  {
   "cell_type": "code",
   "execution_count": null,
   "metadata": {},
   "outputs": [],
   "source": []
  }
 ],
 "metadata": {
  "kernelspec": {
   "display_name": "Python 3",
   "language": "python",
   "name": "python3"
  },
  "language_info": {
   "codemirror_mode": {
    "name": "ipython",
    "version": 3
   },
   "file_extension": ".py",
   "mimetype": "text/x-python",
   "name": "python",
   "nbconvert_exporter": "python",
   "pygments_lexer": "ipython3",
   "version": "3.6.6"
  }
 },
 "nbformat": 4,
 "nbformat_minor": 2
}
